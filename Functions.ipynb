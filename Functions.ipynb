{
  "nbformat": 4,
  "nbformat_minor": 0,
  "metadata": {
    "colab": {
      "provenance": []
    },
    "kernelspec": {
      "name": "python3",
      "display_name": "Python 3"
    },
    "language_info": {
      "name": "python"
    }
  },
  "cells": [
    {
      "cell_type": "markdown",
      "source": [
        "# **Functions**"
      ],
      "metadata": {
        "id": "ZEujx2VyiFCZ"
      }
    },
    {
      "cell_type": "markdown",
      "source": [
        "**1.  What is the difference between a function and a method in Python?**\n",
        "\n",
        "\n",
        "   Ans:-  Function\n",
        "\n",
        "  A function is a standalone block of code that operates independently.\n",
        "\n",
        "   It is defined using the def keyword and can be called globally or within other functions.\n",
        "\n",
        "   Functions do not inherently belong to any specific object or class.\n",
        "\n",
        "  They typically operate on data passed to them as arguments and may return a value."
      ],
      "metadata": {
        "id": "2r_gYRzlia_j"
      }
    },
    {
      "cell_type": "code",
      "source": [
        "#Example of function\n",
        "def greet(name):\n",
        "    return f\"Hello, {name}!\"\n",
        "\n",
        "message = greet(\"Alice\")\n",
        "print(message)"
      ],
      "metadata": {
        "colab": {
          "base_uri": "https://localhost:8080/"
        },
        "id": "oG1D3WaUjOs1",
        "outputId": "773d9f69-cd02-4e7e-c70b-206e9519e9fe"
      },
      "execution_count": null,
      "outputs": [
        {
          "output_type": "stream",
          "name": "stdout",
          "text": [
            "Hello, Alice!\n"
          ]
        }
      ]
    },
    {
      "cell_type": "markdown",
      "source": [
        "Method:\n",
        "\n",
        "A method is a function that is defined within a class.\n",
        "\n",
        "It is associated with an object (an instance of a class) and can access and modify the object's data (attributes).\n",
        "\n",
        "Methods are called on an object using dot notation (e.g., object.method()).\n",
        "\n",
        "The first parameter of a method is conventionally self, which refers to the instance of the class on which the method is called."
      ],
      "metadata": {
        "id": "UwCXhjHklY3e"
      }
    },
    {
      "cell_type": "code",
      "source": [
        "#Example of Method\n",
        "class Dog:\n",
        "    def __init__(self, name):\n",
        "        self.name = name\n",
        "\n",
        "    def bark(self):\n",
        "        return f\"{self.name} says Woof!\"\n",
        "\n",
        "my_dog = Dog(\"Buddy\")\n",
        "print(my_dog.bark())"
      ],
      "metadata": {
        "colab": {
          "base_uri": "https://localhost:8080/"
        },
        "id": "smygWgeYnIDk",
        "outputId": "533e5367-9fb9-43a4-e933-f2bda73c67a0"
      },
      "execution_count": null,
      "outputs": [
        {
          "output_type": "stream",
          "name": "stdout",
          "text": [
            "Buddy says Woof!\n"
          ]
        }
      ]
    },
    {
      "cell_type": "markdown",
      "source": [
        "2**. Explain the concept of function arguments and parameters in Python.**\n",
        "\n",
        "   Ans:- Parameters:\n",
        "\n",
        "  Parameters are the variables listed inside the parentheses in the function's definition.\n",
        "\n",
        "  They act as placeholders for the values that the function expects to receive when it is called.\n",
        "\n",
        "  Parameters define the \"signature\" of the function, indicating what kind of information it needs to operate.\n",
        "      \n",
        "   Arguments:\n",
        "\n",
        "  Arguments are the actual values that are passed to a function when it is called.\n",
        "\n",
        "  These values are assigned to the corresponding parameters within the function's scope during execution."
      ],
      "metadata": {
        "id": "3ommxkNinlKX"
      }
    },
    {
      "cell_type": "code",
      "source": [
        "def greet(name): # 'name' is a parameter\n",
        "    print(f\"Hello, {name}!\")"
      ],
      "metadata": {
        "id": "vN-dD0UPo4st"
      },
      "execution_count": null,
      "outputs": []
    },
    {
      "cell_type": "code",
      "source": [
        "greet(\"Alice\") # \"Alice\" is an argument"
      ],
      "metadata": {
        "colab": {
          "base_uri": "https://localhost:8080/"
        },
        "id": "zSAZxjy7o9oW",
        "outputId": "c4096b41-9fb0-49dc-ad0d-54faf4ed4ef0"
      },
      "execution_count": null,
      "outputs": [
        {
          "output_type": "stream",
          "name": "stdout",
          "text": [
            "Hello, Alice!\n"
          ]
        }
      ]
    },
    {
      "cell_type": "markdown",
      "source": [
        "**3. What are the different ways to define and call a function in Python?**\n",
        "\n",
        "   Ans:-\n",
        "\n",
        "   Defining a Function in Python\n",
        "\n",
        "   Functions in Python are defined using the def keyword. The general syntax is as follows:\n",
        "\n",
        "\n",
        "    def function_name(parameters):\n",
        "\n",
        "    \"\"\"Docstring: Optional, describes the function's purpose.\"\"\"\n",
        "    # Function body - indented code block\n",
        "    # ...\n",
        "    return value  # Optional: returns a value\n",
        "\n",
        "\n",
        "   The keyword used to declare a function.\n",
        "\n",
        "   A descriptive name for the function, following Python's naming conventions (lowercase with underscores).\n",
        "\n",
        "   parameters:\n",
        "\n",
        "   Optional input values the function can accept, enclosed in parentheses and separated by commas. These can be positional, keyword, default, or variable-length arguments.\n",
        "   ::\n",
        "   A colon that marks the end of the function signature and the beginning of the function body.\n",
        "\n",
        "   Indentation:\n",
        "\n",
        "   The code block belonging to the function must be consistently indented (typically 4 spaces).\n",
        "\n",
        "   return:\n",
        "\n",
        "   An optional statement to send a value back to the caller. If omitted or used without an argument, the function implicitly returns None.\n",
        "\n",
        "   Calling a Function in Python\n",
        "\n",
        "   To execute a defined function, you \"call\" it using its name followed by parentheses.\n",
        "\n",
        "\n",
        "   function_name(arguments)\n",
        "   function_name: The name of the function you wish to execute.\n",
        "   arguments: Values passed to the function's parameters, matching their order or specified by keyword.\n"
      ],
      "metadata": {
        "id": "mQWTXSjepMqV"
      }
    },
    {
      "cell_type": "code",
      "source": [
        "#Examples:\n",
        "#Function without parameters.\n",
        "\n",
        "def say_hello():\n",
        "    print(\"Hello!\")\n",
        "\n",
        "say_hello()  # Calling the function\n",
        "\n",
        "\n",
        "#Function with parameters.\n",
        "\n",
        "def greet(name):\n",
        "    print(f\"Hello, {name}!\")\n",
        "\n",
        "greet(\"Alice\")  # Calling with a positional argument\n",
        "greet(name=\"Bob\")  # Calling with a keyword argument\n",
        "\n",
        "#Function returning a value.\n",
        "\n",
        "\n",
        "def add(a, b):\n",
        "    return a + b\n",
        "\n",
        "result = add(5, 3)\n",
        "print(result)"
      ],
      "metadata": {
        "colab": {
          "base_uri": "https://localhost:8080/"
        },
        "id": "p8NsL4MzrRJx",
        "outputId": "87f483a1-324f-4e2e-cc18-bb29524813a0"
      },
      "execution_count": null,
      "outputs": [
        {
          "output_type": "stream",
          "name": "stdout",
          "text": [
            "Hello!\n",
            "Hello, Alice!\n",
            "Hello, Bob!\n",
            "8\n"
          ]
        }
      ]
    },
    {
      "cell_type": "markdown",
      "source": [
        "**4. What is the purpose of the `return` statement in a Python functi**on?\n",
        "\n",
        "   Ans:- The return statement in Python has two primary purposes:\n",
        "\n",
        "   It immediately exits a function.\n",
        "It sends a value back to where the function was called.\n",
        "Any code inside a function after a return statement is executed will not run. If a function doesn't have an explicit return statement, it automatically returns the special value None.\n",
        "\n",
        " Syntax:return [value]"
      ],
      "metadata": {
        "id": "-f96s62pxNNa"
      }
    },
    {
      "cell_type": "code",
      "source": [
        "# A function that calculates and returns a value\n",
        "def add(a, b):\n",
        "  return result\n",
        "\n",
        "# The value returned from the function is stored in a variable\n",
        "sum_value = add(5, 3)\n",
        "\n",
        "print(sum_value)\n",
        "# Outputs: 8\n"
      ],
      "metadata": {
        "colab": {
          "base_uri": "https://localhost:8080/"
        },
        "id": "aMHiHrvFyoCO",
        "outputId": "52fe0221-7768-4a98-83d6-7e3f9292e54f"
      },
      "execution_count": null,
      "outputs": [
        {
          "output_type": "stream",
          "name": "stdout",
          "text": [
            "8\n"
          ]
        }
      ]
    },
    {
      "cell_type": "markdown",
      "source": [
        "**5. What are iterators in Python and how do they differ from iterables?**\n",
        "\n",
        "   Ans:- In Python iterators and iterables are fundamental concepts for working with sequences of data.\n",
        "An iterable is an object that can be iterated over, meaning it can return its members one at a time. Examples of built-in iterables in Python include lists, tuples, strings, dictionaries, and sets. An object is considered iterable if it implements the __iter__() method, which returns an iterator, or the __getitem__() method, which allows access to elements by index.\n",
        "\n",
        " An iterator is an object that represents a stream of data and can be iterated upon. It is responsible for keeping track of the current position during iteration and providing the next element when requested. An object is considered an iterator if it implements both the __iter__() method (which returns itself) and the __next__() method. The __next__() method returns the next item in the sequence and raises a StopIteration exception when there are no more items."
      ],
      "metadata": {
        "id": "KlUIkMSty6w0"
      }
    },
    {
      "cell_type": "code",
      "source": [
        "# An iterable (a list)\n",
        "my_list = [1, 2, 3]\n",
        "\n",
        "# Getting an iterator from the iterable\n",
        "my_iterator = iter(my_list)\n",
        "\n",
        "# Using the iterator to get elements\n",
        "print(next(my_iterator))  # Output: 1\n",
        "print(next(my_iterator))  # Output: 2\n",
        "print(next(my_iterator))  # Output: 3\n",
        "\n",
        "# Attempting to get another element will raise StopIteration\n",
        "# print(next(my_iterator))"
      ],
      "metadata": {
        "colab": {
          "base_uri": "https://localhost:8080/"
        },
        "id": "uAdgFpHgzcCf",
        "outputId": "ace6b99e-961b-4480-b784-427b1babd11d"
      },
      "execution_count": null,
      "outputs": [
        {
          "output_type": "stream",
          "name": "stdout",
          "text": [
            "1\n",
            "2\n",
            "3\n"
          ]
        }
      ]
    },
    {
      "cell_type": "markdown",
      "source": [
        "**6. Explain the concept of generators in Python and how they are defined.**\n",
        "\n",
        "   Ans:- Generators in Python are a special type of iterable that allow for the creation of iterators in a memory-efficient and concise manner. They are functions that produce a sequence of values lazily, yielding one value at a time instead of generating and storing all values in memory simultaneously. This makes them particularly useful for handling large datasets or infinite sequences where loading the entire dataset into memory would be impractical or impossible.\n",
        "\n",
        "   How Generators are Defined:\n",
        "Generators are defined like regular Python functions, but with a key difference: they use the yield keyword instead of return to produce a value.\n",
        "\n",
        "\n"
      ],
      "metadata": {
        "id": "DAbcXe0nzoDZ"
      }
    },
    {
      "cell_type": "code",
      "source": [
        "def my_generator_function(n):\n",
        "    value = 0\n",
        "    while value < n:\n",
        "        yield value  # Yields the current value and pauses execution\n",
        "        value += 1"
      ],
      "metadata": {
        "id": "_CrrHjy01RWO"
      },
      "execution_count": null,
      "outputs": []
    },
    {
      "cell_type": "markdown",
      "source": [
        "**7. What are the advantages of using generators over regular functions?**\n",
        "  \n",
        "  Ans:- Memory Efficiency:\n",
        "  Generators produce values one at a time, on demand, rather than generating and storing an entire sequence in memory. This is crucial when working with large datasets or infinite sequences, as it prevents memory exhaustion.\n",
        "\n",
        "\n",
        "   Lazy Evaluation:\n",
        "   Values are computed only when they are requested, leading to improved performance, especially when not all values in a sequence are needed. This contrasts with regular functions that typically compute all results before returning.\n",
        "\n",
        "\n",
        "  Handling Infinite Sequences:\n",
        "  Generators can represent and iterate through infinite sequences (e.g., Fibonacci numbers) without running out of memory, as they only yield the next value when requested.\n",
        "\n",
        "\n",
        "  Pipeline Processing:\n",
        "  Generators facilitate the creation of data processing pipelines where data flows through a series of generator functions, each performing a specific transformation or filtering step. This modular approach enhances code readability and efficiency.\n",
        "\n",
        "\n",
        "  Simplified Code for Iteration:\n",
        "  Generators often lead to more concise and readable code for creating iterables, as they automatically handle the underlying iteration protocol (__iter__(), __next__(), StopIteration).\n",
        "\n",
        "\n",
        "   State Preservation:\n",
        "   Generators can pause their execution with the yield keyword and resume from where they left off, maintaining their internal state across multiple calls. This allows for cooperative multitasking and more complex control flow."
      ],
      "metadata": {
        "id": "ipXswUy01XoG"
      }
    },
    {
      "cell_type": "markdown",
      "source": [
        "**8. What is a lambda function in Python and when is it typically used?**\n",
        "  \n",
        "   Ans:-  A lambda function in Python is a small, anonymous function defined using the lambda keyword. Unlike regular functions defined with def, lambda functions do not have a name and are limited to a single expression, which is implicitly returned. They can take any number of arguments.\n",
        "    \n",
        "    #lambda arguments: expression\n",
        "\n",
        "    Typical Uses:\n",
        "\n",
        "   Lambda functions are typically used in scenarios where a small, single-expression function is needed for a short period, often as an argument to higher-order functions.\n",
        "\n",
        "   Higher-Order Functions: They are frequently used with functions like map(), filter(), and sorted(), which take a function as an argument.\n",
        "\n",
        "   map(): Applies a given function to all items in an iterable and returns a map object.\n",
        "\n",
        "      numbers = [1, 2, 3, 4]\n",
        "        squared_numbers = list(map(lambda x: x**2, numbers))\n",
        "        # Output: [1, 4, 9, 16]\n",
        "\n",
        "        filter(): Constructs an iterator from elements of an iterable for which a function returns true.\n",
        "\n",
        "                numbers = [1, 2, 3, 4, 5, 6]\n",
        "        even_numbers = list(filter(lambda x: x % 2 == 0, numbers))\n",
        "        # Output: [2, 4, 6]\n",
        "\n",
        "\n",
        "        sorted(): Sorts an iterable using a custom key.\n",
        "\n",
        "                students = [('Alice', 25), ('Bob', 20), ('Charlie', 30)]\n",
        "        sorted_by_age = sorted(students, key=lambda s: s[1])\n",
        "        # Output: [('Bob', 20), ('Alice', 25), ('Charlie', 30)]"
      ],
      "metadata": {
        "id": "bjKHrKFg3tpQ"
      }
    },
    {
      "cell_type": "markdown",
      "source": [
        "**9. Explain the purpose and usage of the `map()` function in Python.**\n",
        "\n",
        "   Ans:- The map() function in Python is a built-in higher-order function used to apply a specified function to each item in an iterable (such as a list, tuple, or set). It provides a concise and efficient way to transform data collections without explicitly writing a for loop.\n",
        "\n",
        "  Purpose:\n",
        "  The primary purpose of map() is to perform a uniform operation or transformation on every element within an iterable. This is particularly useful for:\n",
        "   \n",
        "  Data Transformation:\n",
        "  Modifying elements in a collection, such as converting data types, applying  mathematical operations, or formatting strings.\n",
        "\n",
        "  Code Conciseness:\n",
        "  Replacing explicit for loops with a more functional and often more readable approach.\n",
        "   \n",
        "  Efficiency:\n",
        "  For large datasets, map() can be more memory-efficient than creating a new list using a list comprehension, as it returns an iterator rather than a\n",
        "  complete list immediately.\n",
        "   \n",
        "   \n",
        "  Usage:\n",
        "     The map() function takes two main arguments:\n",
        "     \n",
        "   function:\n",
        "  The function to be applied to each item. This can be a built-in function, a user-defined function, or a lambda function.\n",
        "   \n",
        "   iterable:\n",
        "   The iterable (e.g., list, tuple) whose elements will be processed by the function."
      ],
      "metadata": {
        "id": "R1JFM0fi5PiG"
      }
    },
    {
      "cell_type": "markdown",
      "source": [
        "**10. What is the difference between `map()`, `reduce()`, and `filter()` functions in Python?**\n",
        "\n",
        "\n",
        "\n",
        "   Ans:- The map(), filter(), and reduce() functions in Python are built-in higher-order functions used for functional programming paradigms, each serving a distinct purpose in data manipulation:\n",
        "\n",
        "\n",
        "   *map(function, iterable):*\n",
        "\n",
        "   Purpose: Applies a given function to each item in an iterable (e.g., list, tuple) and returns a map object (an iterator) containing the results.\n",
        "   \n",
        "   Output: The output iterable will have the same number of elements as the input iterable, but each element will be transformed by the applied function.\n",
        "   \n",
        "   Example: Doubling each number in a list.\n",
        "\n",
        "   *filter(function, iterable):*\n",
        "\n",
        "   Purpose: Constructs an iterator from elements of an iterable for which a function returns True. The function acts as a predicate (a test that returns True or False).\n",
        "\n",
        "   Output: The output iterable contains only the elements from the input iterable that satisfy the condition defined by the function. The number of elements can be less than or equal to the input.\n",
        "   \n",
        "   Example: Selecting only even numbers from a list.\n",
        "\n",
        "   *reduce(function, iterable[, initializer]):*\n",
        "\n",
        "   Purpose: Applies a function of two arguments cumulatively to the items of an iterable, from left to right, so as to reduce the iterable to a single value. It is part of the functools module and needs to be imported.\n",
        "   \n",
        "   Output: A single, aggregated value.\n",
        "   \n",
        "   Example: Calculating the sum of all elements in a list."
      ],
      "metadata": {
        "id": "s3wWDPjz63Fd"
      }
    },
    {
      "cell_type": "code",
      "source": [
        "    numbers = [1, 2, 3, 4]\n",
        "    doubled_numbers = list(map(lambda x: x * 2, numbers))\n",
        "    # doubled_numbers will be [2, 4, 6, 8]\n"
      ],
      "metadata": {
        "id": "HtZlgY4u7Rty"
      },
      "execution_count": null,
      "outputs": []
    },
    {
      "cell_type": "code",
      "source": [
        "    numbers = [1, 2, 3, 4, 5]\n",
        "    even_numbers = list(filter(lambda x: x % 2 == 0, numbers))\n",
        "    # even_numbers will be [2, 4]"
      ],
      "metadata": {
        "id": "RDAKG2fg8dut"
      },
      "execution_count": null,
      "outputs": []
    },
    {
      "cell_type": "code",
      "source": [
        "    from functools import reduce\n",
        "    numbers = [1, 2, 3, 4]\n",
        "    sum_of_numbers = reduce(lambda x, y: x + y, numbers)\n",
        "    # sum_of_numbers will be 10"
      ],
      "metadata": {
        "id": "WnqGlMkS8iaG"
      },
      "execution_count": null,
      "outputs": []
    },
    {
      "cell_type": "markdown",
      "source": [
        "**11. Using pen & Paper write the internal mechanism for sum operation using  reduce function on this given**\n",
        "list:[47,11,42,13];\n",
        "\n",
        "  Ans:- The internal mechanism for a sum operation using the reduce function on the list [47, 11, 42, 13] can be illustrated step-by-step as follows:\n",
        "Initialization: The reduce function takes a binary function (in this case, addition) and an iterable (the list [47, 11, 42, 13]). It starts by considering the first two elements of the list.\n",
        "\n",
        "  Step 1: The addition operation is applied to the first two elements:\n",
        "  47 + 11 = 58\n",
        "\n",
        "  Step 2: The result from Step 1 (58) is then used as the first argument for the next operation, with the third element of the original list (42) as the second argument:\n",
        "  58 + 42 = 100\n",
        "\n",
        "  Step 3: The result from Step 2 (100) is then used as the first argument for the next operation, with the fourth element of the original list (13) as the second argument:\n",
        "  100 + 13 = 113\n",
        "\n",
        "  Final Result: Since all elements in the list have been processed, the reduce function returns the final cumulative value, which is 113."
      ],
      "metadata": {
        "id": "sdzc_RYS8n3b"
      }
    },
    {
      "cell_type": "markdown",
      "source": [
        "**Practical Questions**"
      ],
      "metadata": {
        "id": "fsciBorEBUzH"
      }
    },
    {
      "cell_type": "markdown",
      "source": [
        " 1.  Write a Python function that takes a list of numbers as input and returns the sum of all even numbers in\n",
        " the list."
      ],
      "metadata": {
        "id": "3TPiHUtzBfi2"
      }
    },
    {
      "cell_type": "code",
      "metadata": {
        "colab": {
          "base_uri": "https://localhost:8080/"
        },
        "id": "3e045d6e",
        "outputId": "3cea23eb-0ecf-4b77-c7fd-a84d4d9166ce"
      },
      "source": [
        "\n",
        "my_list = [1, 2, 3, 4, 5, 6, 7, 8, 9, 10]\n",
        "total_even = sum_even_numbers(my_list)\n",
        "print(f\"The sum of even numbers in the list is: {total_even}\")"
      ],
      "execution_count": null,
      "outputs": [
        {
          "output_type": "stream",
          "name": "stdout",
          "text": [
            "The sum of even numbers in the list is: 30\n"
          ]
        }
      ]
    },
    {
      "cell_type": "markdown",
      "source": [
        "2. Create a Python function that accepts a string and returns the reverse of that string."
      ],
      "metadata": {
        "id": "HTlscn25FXRS"
      }
    },
    {
      "cell_type": "code",
      "source": [
        "txt = \"Hello World\"[::-1]\n",
        "print(txt)\n",
        "\n"
      ],
      "metadata": {
        "colab": {
          "base_uri": "https://localhost:8080/"
        },
        "id": "Lrm3uBWpEzqe",
        "outputId": "ddc7f78f-6ec7-4610-bf00-212895874135"
      },
      "execution_count": null,
      "outputs": [
        {
          "output_type": "stream",
          "name": "stdout",
          "text": [
            "dlroW olleH\n"
          ]
        }
      ]
    },
    {
      "cell_type": "markdown",
      "source": [
        "3. Implement a Python function that takes a list of integers and returns a new list containing the squares of\n",
        "each number."
      ],
      "metadata": {
        "id": "KtOW9RojGGMz"
      }
    },
    {
      "cell_type": "code",
      "source": [
        "my_numbers = [5,9,52,76,96]\n",
        "squared_list = square_numbers(my_numbers)\n",
        "print(f\"The original list is: {my_numbers}\")\n",
        "print(f\"The list with squared numbers is: {squared_list}\")"
      ],
      "metadata": {
        "colab": {
          "base_uri": "https://localhost:8080/"
        },
        "id": "IqLZX83NHiN-",
        "outputId": "8072dcfd-0561-40e1-9719-1d16768590a9"
      },
      "execution_count": null,
      "outputs": [
        {
          "output_type": "stream",
          "name": "stdout",
          "text": [
            "The original list is: [5, 9, 52, 76, 96]\n",
            "The list with squared numbers is: [25, 81, 2704, 5776, 9216]\n"
          ]
        }
      ]
    },
    {
      "cell_type": "markdown",
      "source": [
        "4. Write a Python function that checks if a given number is prime or not from 1 to 200."
      ],
      "metadata": {
        "id": "2fkA1pThH8LH"
      }
    },
    {
      "cell_type": "code",
      "source": [
        "def checkPrime(num):\n",
        "    # 0, 1 and negative numbers are not prime\n",
        "    if num < 2:\n",
        "        return 0\n",
        "    else:\n",
        "        # no need to run loop till num-1 as for any number x the numbers in\n",
        "        # the range(num/2 + 1, num) won't be divisible anyway\n",
        "        # Example 36 won't be divisible by anything b/w 19-35\n",
        "        x = num // 2\n",
        "        for j in range(2, x + 1):\n",
        "            if num % j == 0:\n",
        "                return 0\n",
        "    # the number would be prime if we reach here\n",
        "    return 1\n",
        "\n",
        "a, b = 1, 200\n",
        "for i in range(a, b + 1):\n",
        "    if checkPrime(i):\n",
        "        print(i, end=\" \")"
      ],
      "metadata": {
        "colab": {
          "base_uri": "https://localhost:8080/"
        },
        "id": "1bSqofQpNwjV",
        "outputId": "0d5e4f86-a85c-4b1a-be71-cfe743c1f898"
      },
      "execution_count": 68,
      "outputs": [
        {
          "output_type": "stream",
          "name": "stdout",
          "text": [
            "2 3 5 7 11 13 17 19 23 29 31 37 41 43 47 53 59 61 67 71 73 79 83 89 97 101 103 107 109 113 127 131 137 139 149 151 157 163 167 173 179 181 191 193 197 199 "
          ]
        }
      ]
    },
    {
      "cell_type": "markdown",
      "source": [
        "5. Create an iterator class in Python that generates the Fibonacci sequence up to a specified number of\n",
        "terms."
      ],
      "metadata": {
        "id": "ukh5_mw7Rn-5"
      }
    },
    {
      "cell_type": "code",
      "source": [
        "# Create an iterator for the first 9 Fibonacci terms\n",
        "fib_iter = FibonacciIterator(9)\n",
        "\n",
        "# Iterate and print the terms\n",
        "for num in fib_iter:\n",
        "    print(num)\n",
        "\n",
        "\n"
      ],
      "metadata": {
        "colab": {
          "base_uri": "https://localhost:8080/"
        },
        "id": "4gVR7uZJSncg",
        "outputId": "f89c27e2-f66e-45f0-f5be-f47c2f84aba8"
      },
      "execution_count": 78,
      "outputs": [
        {
          "output_type": "stream",
          "name": "stdout",
          "text": [
            "0\n",
            "1\n",
            "1\n",
            "2\n",
            "3\n",
            "5\n",
            "8\n",
            "13\n",
            "21\n"
          ]
        }
      ]
    },
    {
      "cell_type": "markdown",
      "source": [
        "6. Write a generator function in Python that yields the powers of 2 up to a given exponent."
      ],
      "metadata": {
        "id": "KyC87vj9TAGq"
      }
    },
    {
      "cell_type": "code",
      "source": [
        "a=list(\"sample\")\n"
      ],
      "metadata": {
        "id": "Afuz6o6eV_e2"
      },
      "execution_count": null,
      "outputs": []
    },
    {
      "cell_type": "markdown",
      "source": [
        "7. Implement a generator function that reads a file line by line and yields each line as a string."
      ],
      "metadata": {
        "id": "ACr_iycfZZxM"
      }
    },
    {
      "cell_type": "code",
      "source": [
        "L = [\"Geeks\\n\", \"for\\n\", \"Geeks\\n\"]\n",
        "\n",
        "file1 = open('myfile.txt', 'w')\n",
        "file1.writelines(L)\n",
        "file1.close()\n",
        "\n",
        "file1 = open('myfile.txt', 'r')\n",
        "count = 0\n",
        "\n",
        "print(\"Using for loop\")\n",
        "for line in file1:\n",
        "    count += 1\n",
        "    print(\"Line{}: {}\".format(count, line.strip()))\n",
        "\n",
        "file1.close()"
      ],
      "metadata": {
        "colab": {
          "base_uri": "https://localhost:8080/"
        },
        "id": "BAff8ZsQZZdY",
        "outputId": "b43b40a2-4b18-45f7-dce5-617b421d3e89"
      },
      "execution_count": 88,
      "outputs": [
        {
          "output_type": "stream",
          "name": "stdout",
          "text": [
            "Using for loop\n",
            "Line1: Geeks\n",
            "Line2: for\n",
            "Line3: Geeks\n"
          ]
        }
      ]
    },
    {
      "cell_type": "markdown",
      "source": [
        "8. Use a lambda function in Python to sort a list of tuples based on the second element of each tuple."
      ],
      "metadata": {
        "id": "kZdY2XREY8es"
      }
    },
    {
      "cell_type": "code",
      "source": [
        "my_list_of_tuples = [('apple', 3), ('banana', 1), ('orange', 5), ('grape', 2)]\n",
        "sorted_list = sorted(my_list_of_tuples, key=lambda x: x[1])\n",
        "print(sorted_list)"
      ],
      "metadata": {
        "colab": {
          "base_uri": "https://localhost:8080/"
        },
        "id": "SFAngYZDY7jo",
        "outputId": "577054d9-63e6-46c6-ca63-2000cf71ed32"
      },
      "execution_count": 87,
      "outputs": [
        {
          "output_type": "stream",
          "name": "stdout",
          "text": [
            "[('banana', 1), ('grape', 2), ('apple', 3), ('orange', 5)]\n"
          ]
        }
      ]
    },
    {
      "cell_type": "markdown",
      "source": [
        "9. Write a Python program that uses `map()` to convert a list of temperatures from Celsius to Fahrenheit."
      ],
      "metadata": {
        "id": "5WWjI-2WYMzq"
      }
    },
    {
      "cell_type": "code",
      "source": [
        "def celsius_to_fahrenheit(celsius):\n",
        "\n",
        "  return (celsius * 9/5) + 32\n",
        "celsius_temperatures = [0, 20, 37, 99, 57,]\n",
        "fahrenheit_temperatures = map(celsius_to_fahrenheit, celsius_temperatures)\n",
        "fahrenheit_list = list(fahrenheit_temperatures)\n",
        "print(f\"Celsius temperatures: {celsius_temperatures}\")\n",
        "print(f\"Fahrenheit temperatures: {fahrenheit_list}\")"
      ],
      "metadata": {
        "colab": {
          "base_uri": "https://localhost:8080/"
        },
        "id": "M_xREtyLYMjS",
        "outputId": "e59da9c9-02f3-41b6-9de1-1812cfa4fe8c"
      },
      "execution_count": 86,
      "outputs": [
        {
          "output_type": "stream",
          "name": "stdout",
          "text": [
            "Celsius temperatures: [0, 20, 37, 99, 57]\n",
            "Fahrenheit temperatures: [32.0, 68.0, 98.6, 210.2, 134.6]\n"
          ]
        }
      ]
    },
    {
      "cell_type": "markdown",
      "source": [
        "10. Create a Python program that uses `filter()` to remove all the vowels from a given string."
      ],
      "metadata": {
        "id": "gW_ua6S6YEEi"
      }
    },
    {
      "cell_type": "code",
      "source": [
        "string = \"ajay shinde\"\n",
        "\n",
        "vowels = ['a', 'e', 'i', 'o', 'u', ]\n",
        "result = \"\"\n",
        "\n",
        "for i in range(len(string)):\n",
        "    if string[i] not in vowels:\n",
        "        result = result + string[i]\n",
        "\n",
        "print(\"\\nAfter removing Vowels: \", result)"
      ],
      "metadata": {
        "colab": {
          "base_uri": "https://localhost:8080/"
        },
        "id": "s1xyJjsYXhXk",
        "outputId": "7b6471ec-c9d4-4246-bd63-a446282d0b66"
      },
      "execution_count": 84,
      "outputs": [
        {
          "output_type": "stream",
          "name": "stdout",
          "text": [
            "\n",
            "After removing Vowels:  jy shnd\n"
          ]
        }
      ]
    },
    {
      "cell_type": "markdown",
      "source": [
        "11. Write a Python program, which returns a list with 2-tuples. Each tuple consists of the order number and the\n",
        "product of the price per item and the quantity. The product should be increased by 10,- € if the value of the\n",
        "order is smaller than 100,00 €.\n",
        "\n",
        "Write a Python program using lambda and map."
      ],
      "metadata": {
        "id": "UVUEtoaAWBAw"
      }
    },
    {
      "cell_type": "code",
      "source": [
        "orders = [\n",
        "    [\"34587\", \"Learning Python, Mark Lutz\", 4, 40.95],\n",
        "    [\"98762\", \"Programming Python, Mark Lutz\", 5, 56.80],\n",
        "    [\"77226\", \"Head First Python, Paul Barry\", 3, 32.95],\n",
        "    [\"88112\", \"Python Cookbook, David Beazley\", 3, 24.99]\n",
        "]\n",
        "\n",
        "result = list(map(lambda x: (x[0], x[2] * x[3] + 10 if x[2] * x[3] < 100 else x[2] * x[3]), orders))\n",
        "\n",
        "print(result)"
      ],
      "metadata": {
        "colab": {
          "base_uri": "https://localhost:8080/"
        },
        "id": "7chUwWunTCMQ",
        "outputId": "e5e2d0fa-9890-4f05-9b78-3bca03d46cb4"
      },
      "execution_count": 79,
      "outputs": [
        {
          "output_type": "stream",
          "name": "stdout",
          "text": [
            "[('34587', 163.8), ('98762', 284.0), ('77226', 108.85000000000001), ('88112', 84.97)]\n"
          ]
        }
      ]
    },
    {
      "cell_type": "code",
      "source": [],
      "metadata": {
        "id": "S0mjAgGOVyuu"
      },
      "execution_count": null,
      "outputs": []
    }
  ]
}